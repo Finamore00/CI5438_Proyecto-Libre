{
 "cells": [
  {
   "cell_type": "code",
   "execution_count": 1,
   "metadata": {},
   "outputs": [],
   "source": [
    "from Genetic_Algorithm import Genetic_Algorithm\n",
    "from Individual import Individual\n",
    "from PIL import Image, ImageDraw\n",
    "import numpy as np"
   ]
  },
  {
   "cell_type": "code",
   "execution_count": 2,
   "metadata": {},
   "outputs": [
    {
     "name": "stdout",
     "output_type": "stream",
     "text": [
      "Generation: 1\n",
      "20180.89552761905\n",
      "20096.83114095238\n"
     ]
    }
   ],
   "source": [
    "ga = Genetic_Algorithm(img_route='imgs/image1_xs.jpg', \n",
    "                       population_size=70,\n",
    "                       gene_count=300, \n",
    "                       mutation_rate=0.1, \n",
    "                       max_iter=10000,\n",
    "                       tournament_size=10)"
   ]
  },
  {
   "cell_type": "code",
   "execution_count": 3,
   "metadata": {},
   "outputs": [
    {
     "ename": "AttributeError",
     "evalue": "'NoneType' object has no attribute 'get_img'",
     "output_type": "error",
     "traceback": [
      "\u001b[0;31m---------------------------------------------------------------------------\u001b[0m",
      "\u001b[0;31mAttributeError\u001b[0m                            Traceback (most recent call last)",
      "\u001b[1;32m/home/daniel/Documents/Trimestre/Inteligencia_Artificial_2/CI5438_Proyecto-Libre/testing.ipynb Cell 3\u001b[0m line \u001b[0;36m4\n\u001b[1;32m      <a href='vscode-notebook-cell:/home/daniel/Documents/Trimestre/Inteligencia_Artificial_2/CI5438_Proyecto-Libre/testing.ipynb#W2sZmlsZQ%3D%3D?line=1'>2</a>\u001b[0m \u001b[39mfor\u001b[39;00m ind \u001b[39min\u001b[39;00m \u001b[39mrange\u001b[39m(\u001b[39mlen\u001b[39m(ga\u001b[39m.\u001b[39mbest_individual_per_gen)):\n\u001b[1;32m      <a href='vscode-notebook-cell:/home/daniel/Documents/Trimestre/Inteligencia_Artificial_2/CI5438_Proyecto-Libre/testing.ipynb#W2sZmlsZQ%3D%3D?line=2'>3</a>\u001b[0m     \u001b[39mif\u001b[39;00m ind \u001b[39m%\u001b[39m \u001b[39m10\u001b[39m \u001b[39m==\u001b[39m \u001b[39m0\u001b[39m:\n\u001b[0;32m----> <a href='vscode-notebook-cell:/home/daniel/Documents/Trimestre/Inteligencia_Artificial_2/CI5438_Proyecto-Libre/testing.ipynb#W2sZmlsZQ%3D%3D?line=3'>4</a>\u001b[0m         frames\u001b[39m.\u001b[39mappend(ga\u001b[39m.\u001b[39;49mbest_individual_per_gen[ind]\u001b[39m.\u001b[39;49mget_img())\n\u001b[1;32m      <a href='vscode-notebook-cell:/home/daniel/Documents/Trimestre/Inteligencia_Artificial_2/CI5438_Proyecto-Libre/testing.ipynb#W2sZmlsZQ%3D%3D?line=5'>6</a>\u001b[0m frames[\u001b[39m0\u001b[39m]\u001b[39m.\u001b[39msave(\u001b[39m'\u001b[39m\u001b[39mga.gif\u001b[39m\u001b[39m'\u001b[39m, \u001b[39mformat\u001b[39m\u001b[39m=\u001b[39m\u001b[39m\"\u001b[39m\u001b[39mGIF\u001b[39m\u001b[39m\"\u001b[39m, \n\u001b[1;32m      <a href='vscode-notebook-cell:/home/daniel/Documents/Trimestre/Inteligencia_Artificial_2/CI5438_Proyecto-Libre/testing.ipynb#W2sZmlsZQ%3D%3D?line=6'>7</a>\u001b[0m                append_images\u001b[39m=\u001b[39mframes,\n\u001b[1;32m      <a href='vscode-notebook-cell:/home/daniel/Documents/Trimestre/Inteligencia_Artificial_2/CI5438_Proyecto-Libre/testing.ipynb#W2sZmlsZQ%3D%3D?line=7'>8</a>\u001b[0m                save_all\u001b[39m=\u001b[39m\u001b[39mTrue\u001b[39;00m, \n\u001b[1;32m      <a href='vscode-notebook-cell:/home/daniel/Documents/Trimestre/Inteligencia_Artificial_2/CI5438_Proyecto-Libre/testing.ipynb#W2sZmlsZQ%3D%3D?line=8'>9</a>\u001b[0m                duration\u001b[39m=\u001b[39m\u001b[39m20\u001b[39m, loop\u001b[39m=\u001b[39m\u001b[39m1\u001b[39m)\n",
      "\u001b[0;31mAttributeError\u001b[0m: 'NoneType' object has no attribute 'get_img'"
     ]
    }
   ],
   "source": [
    "frames = []\n",
    "for ind in range(len(ga.best_individual_per_gen)):\n",
    "    if ind % 10 == 0:\n",
    "        frames.append(ga.best_individual_per_gen[ind].get_img())\n",
    "\n",
    "frames[0].save('ga.gif', format=\"GIF\", \n",
    "               append_images=frames,\n",
    "               save_all=True, \n",
    "               duration=20, loop=1)"
   ]
  }
 ],
 "metadata": {
  "kernelspec": {
   "display_name": ".venv",
   "language": "python",
   "name": "python3"
  },
  "language_info": {
   "codemirror_mode": {
    "name": "ipython",
    "version": 3
   },
   "file_extension": ".py",
   "mimetype": "text/x-python",
   "name": "python",
   "nbconvert_exporter": "python",
   "pygments_lexer": "ipython3",
   "version": "3.11.4"
  }
 },
 "nbformat": 4,
 "nbformat_minor": 2
}
