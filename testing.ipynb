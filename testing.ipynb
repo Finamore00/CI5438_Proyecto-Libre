{
 "cells": [
  {
   "cell_type": "code",
   "execution_count": null,
   "metadata": {},
   "outputs": [],
   "source": [
    "from Genetic_Algorithm import Genetic_Algorithm\n",
    "from Individual import Individual\n",
    "from itertools import combinations\n",
    "from random import choices\n",
    "from PIL import Image"
   ]
  },
  {
   "cell_type": "code",
   "execution_count": null,
   "metadata": {},
   "outputs": [],
   "source": [
    "img = Image.open('imgs/image1.jpg')\n",
    "img.resize((50, 50)).save('imgs/image1_xs.jpg')"
   ]
  },
  {
   "cell_type": "code",
   "execution_count": null,
   "metadata": {},
   "outputs": [],
   "source": [
    "ga = Genetic_Algorithm(img_route='imgs/image1_xs.jpg', \n",
    "                       population_size=60, \n",
    "                       gene_count=60, \n",
    "                       mutation_rate=0.4, \n",
    "                       max_iter=3000,\n",
    "                       tournament_size=4)"
   ]
  },
  {
   "cell_type": "code",
   "execution_count": null,
   "metadata": {},
   "outputs": [],
   "source": [
    "for i in range(len(ga.best_individual_per_gen)):\n",
    "    if i % 50 == 0:\n",
    "        ga.best_individual_per_gen[i].render()"
   ]
  }
 ],
 "metadata": {
  "kernelspec": {
   "display_name": ".venv",
   "language": "python",
   "name": "python3"
  },
  "language_info": {
   "codemirror_mode": {
    "name": "ipython",
    "version": 3
   },
   "file_extension": ".py",
   "mimetype": "text/x-python",
   "name": "python",
   "nbconvert_exporter": "python",
   "pygments_lexer": "ipython3",
   "version": "3.11.4"
  }
 },
 "nbformat": 4,
 "nbformat_minor": 2
}
