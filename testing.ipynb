{
 "cells": [
  {
   "cell_type": "code",
   "execution_count": 1,
   "metadata": {},
   "outputs": [],
   "source": [
    "from Genetic_Algorithm import Genetic_Algorithm\n",
    "from Individual import Individual"
   ]
  },
  {
   "cell_type": "code",
   "execution_count": 3,
   "metadata": {},
   "outputs": [
    {
     "name": "stdout",
     "output_type": "stream",
     "text": [
      "2.8980823273914527e-08\n",
      "2.9329734029191783e-08\n"
     ]
    }
   ],
   "source": [
    "ga = Genetic_Algorithm(img_route='imgs/image1.jpg', \n",
    "                       population_size=10, \n",
    "                       gene_count=25, \n",
    "                       mutation_rate=0.1, \n",
    "                       max_iter=1,\n",
    "                       tournament_size=2)"
   ]
  }
 ],
 "metadata": {
  "kernelspec": {
   "display_name": ".venv",
   "language": "python",
   "name": "python3"
  },
  "language_info": {
   "codemirror_mode": {
    "name": "ipython",
    "version": 3
   },
   "file_extension": ".py",
   "mimetype": "text/x-python",
   "name": "python",
   "nbconvert_exporter": "python",
   "pygments_lexer": "ipython3",
   "version": "3.11.4"
  }
 },
 "nbformat": 4,
 "nbformat_minor": 2
}
